{
  "cells": [
    {
      "cell_type": "code",
      "execution_count": null,
      "metadata": {
        "id": "tZRSiDYNQLSr"
      },
      "outputs": [],
      "source": []
    },
    {
      "cell_type": "markdown",
      "source": [
        "Github Link: https://github.com/Rutuja185233/TC6_/blob/main/TC6_Project_1_.ipynb\n"
      ],
      "metadata": {
        "id": "ltnVY6UJCbtA"
      }
    },
    {
      "cell_type": "code",
      "execution_count": null,
      "metadata": {
        "colab": {
          "base_uri": "https://localhost:8080/"
        },
        "id": "DOrOHlO4O3AZ",
        "outputId": "dbc008af-14df-4797-8864-7a60964eebfd"
      },
      "outputs": [
        {
          "output_type": "stream",
          "name": "stdout",
          "text": [
            "Mounted at /content/drive\n"
          ]
        }
      ],
      "source": [
        "from google.colab import drive\n",
        "drive.mount('/content/drive')"
      ]
    },
    {
      "cell_type": "code",
      "execution_count": null,
      "metadata": {
        "id": "n3W3U0WMO9Ob"
      },
      "outputs": [],
      "source": [
        "import numpy as np\n",
        "import pickle\n",
        "import cv2\n",
        "import os\n",
        "import tensorflow\n",
        "from tensorflow import keras\n",
        "from os import listdir\n",
        "from sklearn.preprocessing import LabelBinarizer\n",
        "from keras.models import Sequential\n",
        "from tensorflow.keras.layers import BatchNormalization\n",
        "from keras.layers.convolutional import Conv2D\n",
        "from keras.layers.convolutional import MaxPooling2D\n",
        "from keras.layers.core import Activation, Flatten, Dropout, Dense\n",
        "from keras import backend as K\n",
        "from tensorflow.keras.preprocessing.image import ImageDataGenerator\n",
        "from keras.optimizers import Adam\n",
        "from keras.preprocessing import image\n",
        "from tensorflow.keras.preprocessing.image import img_to_array\n",
        "from sklearn.preprocessing import MultiLabelBinarizer\n",
        "from sklearn.model_selection import train_test_split\n",
        "from sklearn.metrics import f1_score\n",
        "from sklearn.metrics import precision_score, accuracy_score, recall_score, confusion_matrix, ConfusionMatrixDisplay\n",
        "import itertools\n",
        "from tensorflow.keras.preprocessing import image_dataset_from_directory\n",
        "from tensorflow.keras.layers.experimental.preprocessing import Rescaling\n",
        "import matplotlib.pyplot as plt"
      ]
    },
    {
      "cell_type": "code",
      "execution_count": null,
      "metadata": {
        "id": "amXinMZnPEwd"
      },
      "outputs": [],
      "source": [
        "EPOCHS = 25\n",
        "INIT_LR = 1e-3\n",
        "BS = 32\n",
        "default_image_size = tuple((256,256))\n",
        "image_size = 0\n",
        "directory_root = ('/content/drive/MyDrive/Kaggle/plantvillage')\n",
        "width=256\n",
        "height=256\n",
        "depth=3"
      ]
    },
    {
      "cell_type": "code",
      "execution_count": null,
      "metadata": {
        "id": "gyDiO_NKPMGt"
      },
      "outputs": [],
      "source": [
        "def convert_image_to_array(image_dir):\n",
        "    try:\n",
        "        image = cv2.imread(image_dir)\n",
        "        if image is not None :\n",
        "            image = cv2.resize(image, default_image_size)   \n",
        "            return img_to_array(image)\n",
        "        else :\n",
        "            return np.array([])\n",
        "    except Exception as e:\n",
        "        print(f\"Error : {e}\")\n",
        "        return None"
      ]
    },
    {
      "cell_type": "code",
      "execution_count": null,
      "metadata": {
        "colab": {
          "base_uri": "https://localhost:8080/"
        },
        "id": "NzQQ1R_tPP36",
        "outputId": "277b9539-c630-4848-a72b-38c9d64b1a66"
      },
      "outputs": [
        {
          "output_type": "stream",
          "name": "stdout",
          "text": [
            "[INFO] Loading images ...\n",
            "[INFO] Processing Pepper__bell___Bacterial_spot ...\n",
            "[INFO] Processing Pepper__bell___healthy ...\n",
            "[INFO] Processing Potato___Early_blight ...\n",
            "[INFO] Processing Potato___Late_blight ...\n",
            "[INFO] Processing Potato___healthy ...\n",
            "[INFO] Processing Tomato_Bacterial_spot ...\n",
            "[INFO] Processing Tomato_Early_blight ...\n",
            "[INFO] Processing Tomato_Late_blight ...\n",
            "[INFO] Processing Tomato_Leaf_Mold ...\n",
            "[INFO] Processing Tomato_Septoria_leaf_spot ...\n",
            "[INFO] Processing Tomato_Spider_mites_Two_spotted_spider_mite ...\n",
            "[INFO] Processing Tomato__Target_Spot ...\n",
            "[INFO] Processing Tomato__Tomato_YellowLeaf__Curl_Virus ...\n",
            "[INFO] Processing Tomato__Tomato_mosaic_virus ...\n",
            "[INFO] Processing Tomato_healthy ...\n",
            "[INFO] Image loading completed\n"
          ]
        }
      ],
      "source": [
        "image_list, label_list = [], []\n",
        "try:\n",
        "    print(\"[INFO] Loading images ...\")\n",
        "    root_dir = listdir(directory_root)\n",
        "    for directory in root_dir :\n",
        "        # remove .DS_Store from list\n",
        "        if directory == \".DS_Store\" :\n",
        "            root_dir.remove(directory)\n",
        "\n",
        "    for plant_folder in root_dir :\n",
        "        plant_disease_folder_list = listdir(f\"{directory_root}/{plant_folder}\")\n",
        "        \n",
        "        for disease_folder in plant_disease_folder_list :\n",
        "            # remove .DS_Store from list\n",
        "            if disease_folder == \".DS_Store\" :\n",
        "                plant_disease_folder_list.remove(disease_folder)\n",
        "\n",
        "        for plant_disease_folder in plant_disease_folder_list:\n",
        "            print(f\"[INFO] Processing {plant_disease_folder} ...\")\n",
        "            plant_disease_image_list = listdir(f\"{directory_root}/{plant_folder}/{plant_disease_folder}/\")\n",
        "                \n",
        "            for single_plant_disease_image in plant_disease_image_list :\n",
        "                if single_plant_disease_image == \".DS_Store\" :\n",
        "                    plant_disease_image_list.remove(single_plant_disease_image)\n",
        "\n",
        "            for image in plant_disease_image_list[:250]:\n",
        "                image_directory = f\"{directory_root}/{plant_folder}/{plant_disease_folder}/{image}\"\n",
        "                if image_directory.endswith(\".jpg\") == True or image_directory.endswith(\".JPG\") == True:\n",
        "                    image_list.append(convert_image_to_array(image_directory))\n",
        "                    label_list.append(plant_disease_folder)\n",
        "    print(\"[INFO] Image loading completed\")  \n",
        "except Exception as e:\n",
        "    print(f\"Error : {e}\")\n",
        "\n",
        "\n"
      ]
    },
    {
      "cell_type": "code",
      "execution_count": null,
      "metadata": {
        "id": "_NCM4U_SPSoA"
      },
      "outputs": [],
      "source": [
        "image_size = len(image_list)"
      ]
    },
    {
      "cell_type": "code",
      "source": [],
      "metadata": {
        "id": "SfYzUEZDylbz"
      },
      "execution_count": null,
      "outputs": []
    },
    {
      "cell_type": "code",
      "execution_count": null,
      "metadata": {
        "id": "zuez1Pt1PXua"
      },
      "outputs": [],
      "source": [
        "label_binarizer = LabelBinarizer()\n",
        "image_labels = label_binarizer.fit_transform(label_list)\n",
        "pickle.dump(label_binarizer,open('label_transform.pkl', 'wb'))\n",
        "n_classes = len(label_binarizer.classes_)"
      ]
    },
    {
      "cell_type": "code",
      "execution_count": null,
      "metadata": {
        "colab": {
          "base_uri": "https://localhost:8080/"
        },
        "id": "9xqNw-e0PYAf",
        "outputId": "24702c72-2cd4-4f0f-b195-0bef90e6b359"
      },
      "outputs": [
        {
          "output_type": "stream",
          "name": "stdout",
          "text": [
            "['Pepper__bell___Bacterial_spot' 'Pepper__bell___healthy'\n",
            " 'Potato___Early_blight' 'Potato___Late_blight' 'Potato___healthy'\n",
            " 'Tomato_Bacterial_spot' 'Tomato_Early_blight' 'Tomato_Late_blight'\n",
            " 'Tomato_Leaf_Mold' 'Tomato_Septoria_leaf_spot'\n",
            " 'Tomato_Spider_mites_Two_spotted_spider_mite' 'Tomato__Target_Spot'\n",
            " 'Tomato__Tomato_YellowLeaf__Curl_Virus' 'Tomato__Tomato_mosaic_virus'\n",
            " 'Tomato_healthy']\n"
          ]
        }
      ],
      "source": [
        "classes = (label_binarizer.classes_)\n",
        "print(classes)"
      ]
    },
    {
      "cell_type": "code",
      "execution_count": null,
      "metadata": {
        "id": "17Q6Dc9WPYJm"
      },
      "outputs": [],
      "source": [
        "np_image_list = np.array(image_list, dtype=np.float16) / 225.0"
      ]
    },
    {
      "cell_type": "code",
      "source": [
        "#len(np_image_list)"
      ],
      "metadata": {
        "id": "M4Mxui77Vb7y"
      },
      "execution_count": null,
      "outputs": []
    },
    {
      "cell_type": "code",
      "source": [],
      "metadata": {
        "id": "gj1X6yRdsidh"
      },
      "execution_count": null,
      "outputs": []
    },
    {
      "cell_type": "code",
      "execution_count": null,
      "metadata": {
        "colab": {
          "base_uri": "https://localhost:8080/"
        },
        "id": "TPB5L8VJPYM6",
        "outputId": "d191b161-5fb6-4c3a-df70-fa7201562c8a"
      },
      "outputs": [
        {
          "output_type": "stream",
          "name": "stdout",
          "text": [
            "[INFO] Spliting data to train, test\n"
          ]
        }
      ],
      "source": [
        "print(\"[INFO] Spliting data to train, test\")\n",
        "x_train, x_test, y_train, y_test = train_test_split(np_image_list, image_labels, test_size=0.2, random_state = 42) "
      ]
    },
    {
      "cell_type": "code",
      "execution_count": null,
      "metadata": {
        "id": "NdPG6qJqPYQt"
      },
      "outputs": [],
      "source": [
        "aug = ImageDataGenerator(\n",
        "    rotation_range=25, width_shift_range=0.1,\n",
        "    height_shift_range=0.1, shear_range=0.2, \n",
        "    zoom_range=0.2,horizontal_flip=True, \n",
        "    fill_mode=\"nearest\")"
      ]
    },
    {
      "cell_type": "code",
      "execution_count": null,
      "metadata": {
        "id": "D4sGCH7LPYSm"
      },
      "outputs": [],
      "source": [
        "model = Sequential()\n",
        "inputShape = (height, width, depth)\n",
        "chanDim = -1\n",
        "if K.image_data_format() == \"channels_first\":\n",
        "    inputShape = (depth, height, width)\n",
        "    chanDim = 1\n",
        "model.add(Conv2D(32, (3, 3), padding=\"same\",input_shape=inputShape))\n",
        "model.add(Activation(\"relu\"))\n",
        "\n",
        "model.add(BatchNormalization(axis=chanDim))\n",
        "model.add(MaxPooling2D(pool_size=(3, 3)))\n",
        "model.add(Dropout(0.25))\n",
        "model.add(Conv2D(64, (3, 3), padding=\"same\"))\n",
        "model.add(Activation(\"relu\"))\n",
        "model.add(BatchNormalization(axis=chanDim))\n",
        "model.add(Conv2D(64, (3, 3), padding=\"same\"))\n",
        "model.add(Activation(\"relu\"))\n",
        "model.add(BatchNormalization(axis=chanDim))\n",
        "model.add(Conv2D(64, (3, 3), padding=\"same\"))\n",
        "model.add(Activation(\"relu\"))\n",
        "model.add(BatchNormalization(axis=chanDim))\n",
        "model.add(MaxPooling2D(pool_size=(2, 2)))\n",
        "model.add(Dropout(0.25))\n",
        "model.add(Conv2D(128, (3, 3), padding=\"same\"))\n",
        "model.add(Activation(\"relu\"))\n",
        "model.add(BatchNormalization(axis=chanDim))\n",
        "model.add(Conv2D(128, (3, 3), padding=\"same\"))\n",
        "model.add(Activation(\"relu\"))\n",
        "model.add(BatchNormalization(axis=chanDim))\n",
        "model.add(MaxPooling2D(pool_size=(2, 2)))\n",
        "model.add(Dropout(0.25))\n",
        "model.add(Flatten())\n",
        "model.add(Dense(1024))\n",
        "model.add(Activation(\"relu\"))\n",
        "model.add(BatchNormalization())\n",
        "model.add(Dropout(0.5))\n",
        "\n",
        "model.add(Dense(n_classes))\n",
        "model.add(Activation(\"softmax\"))"
      ]
    },
    {
      "cell_type": "code",
      "execution_count": null,
      "metadata": {
        "colab": {
          "base_uri": "https://localhost:8080/"
        },
        "id": "Sp93FDSaPYV-",
        "outputId": "241a1645-6701-47c7-8e5d-da38ac692caa"
      },
      "outputs": [
        {
          "output_type": "stream",
          "name": "stdout",
          "text": [
            "Model: \"sequential\"\n",
            "_________________________________________________________________\n",
            " Layer (type)                Output Shape              Param #   \n",
            "=================================================================\n",
            " conv2d (Conv2D)             (None, 256, 256, 32)      896       \n",
            "                                                                 \n",
            " activation (Activation)     (None, 256, 256, 32)      0         \n",
            "                                                                 \n",
            " batch_normalization (BatchN  (None, 256, 256, 32)     128       \n",
            " ormalization)                                                   \n",
            "                                                                 \n",
            " max_pooling2d (MaxPooling2D  (None, 85, 85, 32)       0         \n",
            " )                                                               \n",
            "                                                                 \n",
            " dropout (Dropout)           (None, 85, 85, 32)        0         \n",
            "                                                                 \n",
            " conv2d_1 (Conv2D)           (None, 85, 85, 64)        18496     \n",
            "                                                                 \n",
            " activation_1 (Activation)   (None, 85, 85, 64)        0         \n",
            "                                                                 \n",
            " batch_normalization_1 (Batc  (None, 85, 85, 64)       256       \n",
            " hNormalization)                                                 \n",
            "                                                                 \n",
            " conv2d_2 (Conv2D)           (None, 85, 85, 64)        36928     \n",
            "                                                                 \n",
            " activation_2 (Activation)   (None, 85, 85, 64)        0         \n",
            "                                                                 \n",
            " batch_normalization_2 (Batc  (None, 85, 85, 64)       256       \n",
            " hNormalization)                                                 \n",
            "                                                                 \n",
            " conv2d_3 (Conv2D)           (None, 85, 85, 64)        36928     \n",
            "                                                                 \n",
            " activation_3 (Activation)   (None, 85, 85, 64)        0         \n",
            "                                                                 \n",
            " batch_normalization_3 (Batc  (None, 85, 85, 64)       256       \n",
            " hNormalization)                                                 \n",
            "                                                                 \n",
            " max_pooling2d_1 (MaxPooling  (None, 42, 42, 64)       0         \n",
            " 2D)                                                             \n",
            "                                                                 \n",
            " dropout_1 (Dropout)         (None, 42, 42, 64)        0         \n",
            "                                                                 \n",
            " conv2d_4 (Conv2D)           (None, 42, 42, 128)       73856     \n",
            "                                                                 \n",
            " activation_4 (Activation)   (None, 42, 42, 128)       0         \n",
            "                                                                 \n",
            " batch_normalization_4 (Batc  (None, 42, 42, 128)      512       \n",
            " hNormalization)                                                 \n",
            "                                                                 \n",
            " conv2d_5 (Conv2D)           (None, 42, 42, 128)       147584    \n",
            "                                                                 \n",
            " activation_5 (Activation)   (None, 42, 42, 128)       0         \n",
            "                                                                 \n",
            " batch_normalization_5 (Batc  (None, 42, 42, 128)      512       \n",
            " hNormalization)                                                 \n",
            "                                                                 \n",
            " max_pooling2d_2 (MaxPooling  (None, 21, 21, 128)      0         \n",
            " 2D)                                                             \n",
            "                                                                 \n",
            " dropout_2 (Dropout)         (None, 21, 21, 128)       0         \n",
            "                                                                 \n",
            " flatten (Flatten)           (None, 56448)             0         \n",
            "                                                                 \n",
            " dense (Dense)               (None, 1024)              57803776  \n",
            "                                                                 \n",
            " activation_6 (Activation)   (None, 1024)              0         \n",
            "                                                                 \n",
            " batch_normalization_6 (Batc  (None, 1024)             4096      \n",
            " hNormalization)                                                 \n",
            "                                                                 \n",
            " dropout_3 (Dropout)         (None, 1024)              0         \n",
            "                                                                 \n",
            " dense_1 (Dense)             (None, 15)                15375     \n",
            "                                                                 \n",
            " activation_7 (Activation)   (None, 15)                0         \n",
            "                                                                 \n",
            "=================================================================\n",
            "Total params: 58,139,855\n",
            "Trainable params: 58,136,847\n",
            "Non-trainable params: 3,008\n",
            "_________________________________________________________________\n"
          ]
        }
      ],
      "source": [
        "model.summary()"
      ]
    },
    {
      "cell_type": "code",
      "execution_count": null,
      "metadata": {
        "colab": {
          "base_uri": "https://localhost:8080/"
        },
        "id": "9fc6LqABPYZT",
        "outputId": "a0677971-879f-4ea1-b0ea-8f91fdb2e5e7"
      },
      "outputs": [
        {
          "output_type": "stream",
          "name": "stdout",
          "text": [
            "[INFO] training network...\n"
          ]
        }
      ],
      "source": [
        "#Compiling Model\n",
        "opt = Adam(learning_rate=INIT_LR, decay=INIT_LR / EPOCHS)\n",
        "# distribution\n",
        "model.compile(loss=\"binary_crossentropy\", optimizer=opt,metrics=[\"accuracy\"])\n",
        "# train the network\n",
        "print(\"[INFO] training network...\")"
      ]
    },
    {
      "cell_type": "code",
      "execution_count": null,
      "metadata": {
        "colab": {
          "base_uri": "https://localhost:8080/"
        },
        "id": "zJgtHiRhPYcQ",
        "outputId": "7c0abfea-58d7-4219-8df3-cb352a596b65"
      },
      "outputs": [
        {
          "metadata": {
            "tags": null
          },
          "name": "stderr",
          "output_type": "stream",
          "text": [
            "<ipython-input-21-8673887158ef>:2: UserWarning: `Model.fit_generator` is deprecated and will be removed in a future version. Please use `Model.fit`, which supports generators.\n",
            "  history = model.fit_generator(\n"
          ]
        },
        {
          "output_type": "stream",
          "name": "stdout",
          "text": [
            "Epoch 1/25\n",
            "91/91 [==============================] - 270s 3s/step - loss: 0.0812 - accuracy: 0.8055 - val_loss: 0.1829 - val_accuracy: 0.6580\n",
            "Epoch 2/25\n",
            "91/91 [==============================] - 262s 3s/step - loss: 0.0848 - accuracy: 0.7889 - val_loss: 0.3996 - val_accuracy: 0.4145\n",
            "Epoch 3/25\n",
            "91/91 [==============================] - 262s 3s/step - loss: 0.0761 - accuracy: 0.8359 - val_loss: 0.1133 - val_accuracy: 0.7141\n",
            "Epoch 4/25\n",
            "91/91 [==============================] - 264s 3s/step - loss: 0.0693 - accuracy: 0.8380 - val_loss: 0.3948 - val_accuracy: 0.4952\n",
            "Epoch 5/25\n",
            "91/91 [==============================] - 261s 3s/step - loss: 0.0644 - accuracy: 0.8605 - val_loss: 0.2405 - val_accuracy: 0.6539\n",
            "Epoch 6/25\n",
            "91/91 [==============================] - 261s 3s/step - loss: 0.0853 - accuracy: 0.7902 - val_loss: 0.2510 - val_accuracy: 0.5239\n",
            "Epoch 7/25\n",
            "91/91 [==============================] - 260s 3s/step - loss: 0.0688 - accuracy: 0.8432 - val_loss: 0.2520 - val_accuracy: 0.5964\n",
            "Epoch 8/25\n",
            "91/91 [==============================] - 267s 3s/step - loss: 0.0611 - accuracy: 0.8660 - val_loss: 0.1721 - val_accuracy: 0.6033\n",
            "Epoch 9/25\n",
            "91/91 [==============================] - 263s 3s/step - loss: 0.0587 - accuracy: 0.8640 - val_loss: 0.0570 - val_accuracy: 0.8550\n",
            "Epoch 10/25\n",
            "91/91 [==============================] - 263s 3s/step - loss: 0.0548 - accuracy: 0.8750 - val_loss: 0.2250 - val_accuracy: 0.6074\n",
            "Epoch 11/25\n",
            "91/91 [==============================] - 264s 3s/step - loss: 0.0495 - accuracy: 0.8924 - val_loss: 0.1915 - val_accuracy: 0.6813\n",
            "Epoch 12/25\n",
            "91/91 [==============================] - 264s 3s/step - loss: 0.0537 - accuracy: 0.8851 - val_loss: 0.0786 - val_accuracy: 0.8194\n",
            "Epoch 13/25\n",
            "91/91 [==============================] - 264s 3s/step - loss: 0.0702 - accuracy: 0.8394 - val_loss: 0.1895 - val_accuracy: 0.6375\n",
            "Epoch 14/25\n",
            "91/91 [==============================] - 264s 3s/step - loss: 0.0606 - accuracy: 0.8667 - val_loss: 0.2673 - val_accuracy: 0.6402\n",
            "Epoch 15/25\n",
            "91/91 [==============================] - 266s 3s/step - loss: 0.0472 - accuracy: 0.8982 - val_loss: 0.1718 - val_accuracy: 0.6484\n",
            "Epoch 16/25\n",
            "91/91 [==============================] - 264s 3s/step - loss: 0.0458 - accuracy: 0.8972 - val_loss: 0.6404 - val_accuracy: 0.4911\n",
            "Epoch 17/25\n",
            "91/91 [==============================] - 262s 3s/step - loss: 0.0444 - accuracy: 0.9058 - val_loss: 0.0934 - val_accuracy: 0.7825\n",
            "Epoch 18/25\n",
            "91/91 [==============================] - 264s 3s/step - loss: 0.0355 - accuracy: 0.9290 - val_loss: 0.1171 - val_accuracy: 0.7592\n",
            "Epoch 19/25\n",
            "91/91 [==============================] - 271s 3s/step - loss: 0.0357 - accuracy: 0.9245 - val_loss: 0.0587 - val_accuracy: 0.8509\n",
            "Epoch 20/25\n",
            "91/91 [==============================] - 270s 3s/step - loss: 0.0349 - accuracy: 0.9287 - val_loss: 0.0860 - val_accuracy: 0.7948\n",
            "Epoch 21/25\n",
            "91/91 [==============================] - 263s 3s/step - loss: 0.0321 - accuracy: 0.9370 - val_loss: 0.5099 - val_accuracy: 0.4159\n",
            "Epoch 22/25\n",
            "91/91 [==============================] - 261s 3s/step - loss: 0.0323 - accuracy: 0.9367 - val_loss: 0.1429 - val_accuracy: 0.7319\n",
            "Epoch 23/25\n",
            "91/91 [==============================] - 276s 3s/step - loss: 0.0418 - accuracy: 0.9100 - val_loss: 0.2200 - val_accuracy: 0.6553\n",
            "Epoch 24/25\n",
            "91/91 [==============================] - 266s 3s/step - loss: 0.0327 - accuracy: 0.9339 - val_loss: 0.1792 - val_accuracy: 0.6990\n",
            "Epoch 25/25\n",
            "91/91 [==============================] - 266s 3s/step - loss: 0.0306 - accuracy: 0.9363 - val_loss: 0.0742 - val_accuracy: 0.8317\n"
          ]
        }
      ],
      "source": [
        "#Fitting Model\n",
        "history = model.fit_generator(\n",
        "    aug.flow(x_train, y_train, batch_size=BS),\n",
        "    validation_data=(x_test, y_test),\n",
        "    steps_per_epoch=len(x_train) // BS,\n",
        "    epochs=EPOCHS, verbose=1\n",
        "    )"
      ]
    },
    {
      "cell_type": "code",
      "source": [],
      "metadata": {
        "id": "CuSYUilOfi9P"
      },
      "execution_count": null,
      "outputs": []
    },
    {
      "cell_type": "code",
      "execution_count": null,
      "metadata": {
        "colab": {
          "base_uri": "https://localhost:8080/",
          "height": 545
        },
        "id": "LKWLn5e3EzOL",
        "outputId": "d37d3daa-662b-4d53-d68d-40e65c0458c3"
      },
      "outputs": [
        {
          "output_type": "display_data",
          "data": {
            "text/plain": [
              "<Figure size 432x288 with 1 Axes>"
            ],
            "image/png": "[encoded data removed]"
          },
          "metadata": {
            "needs_background": "light"
          }
        },
        {
          "output_type": "display_data",
          "data": {
            "text/plain": [
              "<Figure size 432x288 with 1 Axes>"
            ],
            "image/png": "[encoded data removed]"
          },
          "metadata": {
            "needs_background": "light"
          }
        }
      ],
      "source": [
        "acc = history.history['accuracy']\n",
        "val_acc = history.history['val_accuracy']\n",
        "loss = history.history['loss']\n",
        "val_loss = history.history['val_loss']\n",
        "epochs = range(1, len(acc) + 1)\n",
        "\n",
        "#Train and validation accuracy\n",
        "plt.plot(epochs, acc, 'b', label='Training accurarcy')\n",
        "plt.plot(epochs, val_acc, 'r', label='Validation accurarcy')\n",
        "plt.title('Training and Validation accurarcy')\n",
        "plt.legend()\n",
        "plt.figure()\n",
        "\n",
        "#Train and validation loss\n",
        "plt.plot(epochs, loss, 'b', label='Training loss')\n",
        "plt.plot(epochs, val_loss, 'r', label='Validation loss')\n",
        "plt.title('Training and Validation loss')\n",
        "plt.legend()\n",
        "plt.show()"
      ]
    },
    {
      "cell_type": "code",
      "execution_count": null,
      "metadata": {
        "id": "04-UUe6IcrPo"
      },
      "outputs": [],
      "source": []
    },
    {
      "cell_type": "code",
      "execution_count": null,
      "metadata": {
        "id": "LcL__v-E_Xgn"
      },
      "outputs": [],
      "source": [
        "model.save('my_model.h5')"
      ]
    },
    {
      "cell_type": "code",
      "source": [
        "model.save('/content/drive/MyDrive/Colab Notebooks/my_model.h5')"
      ],
      "metadata": {
        "id": "DuaEgbkd9msK"
      },
      "execution_count": null,
      "outputs": []
    },
    {
      "cell_type": "code",
      "source": [
        "model = keras.models.load_model('/content/drive/MyDrive/Colab Notebooks/my_model.h5')"
      ],
      "metadata": {
        "id": "WdI4YuMC86Rc"
      },
      "execution_count": null,
      "outputs": []
    },
    {
      "cell_type": "code",
      "execution_count": null,
      "metadata": {
        "colab": {
          "base_uri": "https://localhost:8080/"
        },
        "id": "gCjOBL0BPYiq",
        "outputId": "392de12f-27a8-4fb0-f4ec-7e9260443a68"
      },
      "outputs": [
        {
          "output_type": "stream",
          "name": "stdout",
          "text": [
            "92/92 [==============================] - 65s 707ms/step - loss: 0.0572 - accuracy: 0.8730\n",
            "Test Accuracy: 87.29887008666992\n"
          ]
        }
      ],
      "source": [
        "#Train Accuracy\n",
        "scores = model.evaluate(x_train, y_train)\n",
        "print(f\"Train Accuracy: {scores[1]*100}\")"
      ]
    },
    {
      "cell_type": "code",
      "execution_count": null,
      "metadata": {
        "colab": {
          "base_uri": "https://localhost:8080/"
        },
        "id": "3bCPd9cjPYfG",
        "outputId": "f0694208-f289-446f-f7da-66ae87f8fb0b"
      },
      "outputs": [
        {
          "output_type": "stream",
          "name": "stdout",
          "text": [
            "[INFO] Calculating model accuracy\n",
            "23/23 [==============================] - 17s 694ms/step - loss: 0.0742 - accuracy: 0.8317\n",
            "Test Accuracy: 83.17373394966125\n"
          ]
        }
      ],
      "source": [
        "#Test Accuracy\n",
        "print(\"[INFO] Calculating model accuracy\")\n",
        "scores = model.evaluate(x_test, y_test)\n",
        "print(f\"Test Accuracy: {scores[1]*100}\")"
      ]
    },
    {
      "cell_type": "code",
      "source": [
        "y_pred = model.predict(x_test)"
      ],
      "metadata": {
        "colab": {
          "base_uri": "https://localhost:8080/"
        },
        "id": "M1c1PEwtS_JD",
        "outputId": "6d207dd2-0642-4cc6-bc41-0f036a1da92f"
      },
      "execution_count": null,
      "outputs": [
        {
          "output_type": "stream",
          "name": "stdout",
          "text": [
            "23/23 [==============================] - 23s 1s/step\n"
          ]
        }
      ]
    },
    {
      "cell_type": "code",
      "source": [
        "y_pred=np.argmax(y_pred, axis=1)\n",
        "y_test=np.argmax(y_test, axis=1)\n",
        "cm = confusion_matrix(y_test, y_pred)\n",
        "print(cm)"
      ],
      "metadata": {
        "colab": {
          "base_uri": "https://localhost:8080/"
        },
        "id": "2LaegWfBUhTL",
        "outputId": "035249ae-1840-464e-caf5-96db857d0a81"
      },
      "execution_count": null,
      "outputs": [
        {
          "output_type": "stream",
          "name": "stdout",
          "text": [
            "[[51  3  0  0  0  0  0  0  0  2  0  0  4  0  1]\n",
            " [ 0 58  0  0  2  0  0  0  0  0  0  0  2  0  0]\n",
            " [ 0  0 46  0  0  0  0  0  0  0  0  0  0  0  0]\n",
            " [ 0  0  1 41  2  0  0  0  0  0  1  0  0  0  0]\n",
            " [ 0  1  0  1 35  0  0  0  0  0  0  0  0  0  0]\n",
            " [ 0  0  0  0  0 46  0  0  0  0  0  0  2  0  0]\n",
            " [ 0  0  1  1  2  3 41  1  0  0  0  0  1  0  1]\n",
            " [ 0  0  2  1  0  0  0 46  0  0  0  0  2  0  2]\n",
            " [ 0  1  2  0  0  0  0  1 32  0  1  0  5  0  0]\n",
            " [ 1  2  4  0  1  0  1  1  0 32  1  0  1  3  0]\n",
            " [ 0  0  0  0  4  0  0  0  0  0 38  0  2  0  2]\n",
            " [ 2  1  2  0 10  0  0  0  0  0  7 17  2  1  4]\n",
            " [ 0  0  0  0  0  0  0  0  0  0  0  0 45  0  0]\n",
            " [ 0  1  0  0  0  0  1  0  0  0  1  0  0 43  0]\n",
            " [ 0  0  0  0  0  0  0  0  0  0  0  0  0  0 56]]\n"
          ]
        }
      ]
    },
    {
      "cell_type": "code",
      "source": [
        "import seaborn as sns\n",
        "cm = confusion_matrix(y_test, y_pred)\n",
        "f = sns.heatmap(cm, annot=True)"
      ],
      "metadata": {
        "colab": {
          "base_uri": "https://localhost:8080/",
          "height": 265
        },
        "id": "UskV4hEPX0-b",
        "outputId": "bd89082d-6393-4eeb-d470-7e8682fa3d07"
      },
      "execution_count": null,
      "outputs": [
        {
          "output_type": "display_data",
          "data": {
            "text/plain": [
              "<Figure size 432x288 with 2 Axes>"
            ],
            "image/png": "[encoded data removed]"
          },
          "metadata": {
            "needs_background": "light"
          }
        }
      ]
    },
    {
      "cell_type": "code",
      "source": [
        "#precision_score(y_test, y_pred, average = 'macro')*100"
      ],
      "metadata": {
        "id": "q2v3EFUuU4Mz"
      },
      "execution_count": null,
      "outputs": []
    },
    {
      "cell_type": "code",
      "source": [
        "print(\"Precision Score : \",(precision_score(y_test, y_pred, average='macro') * 100), \"%\")\n",
        "print(\"Recall Score : \",(recall_score(y_test, y_pred, average='macro') * 100), \"%\")\n",
        "print(\"F1 Score : \", (f1_score(y_test, y_pred, average = \"macro\")*100), \"%\")"
      ],
      "metadata": {
        "colab": {
          "base_uri": "https://localhost:8080/"
        },
        "id": "s2b2HgmwZZ1b",
        "outputId": "a4a5f6b7-c4ac-4ea4-c21f-d0079277d1bf"
      },
      "execution_count": null,
      "outputs": [
        {
          "output_type": "stream",
          "name": "stdout",
          "text": [
            "Precision Score :  87.68640287216594 %\n",
            "Recall Score :  85.54651026934137 %\n",
            "F1 Score :  84.77222439418777 %\n"
          ]
        }
      ]
    },
    {
      "cell_type": "code",
      "source": [
        "from sklearn.metrics import classification_report\n",
        "print('classification report: \\n', classification_report(y_test, y_pred))"
      ],
      "metadata": {
        "colab": {
          "base_uri": "https://localhost:8080/"
        },
        "id": "lxDwysMAQAqF",
        "outputId": "0ea770b7-38a4-4455-d7ca-b328f511bf39"
      },
      "execution_count": null,
      "outputs": [
        {
          "output_type": "stream",
          "name": "stdout",
          "text": [
            "classification report: \n",
            "               precision    recall  f1-score   support\n",
            "\n",
            "           0       0.94      0.84      0.89        61\n",
            "           1       0.87      0.94      0.90        62\n",
            "           2       0.79      1.00      0.88        46\n",
            "           3       0.93      0.91      0.92        45\n",
            "           4       0.62      0.95      0.75        37\n",
            "           5       0.94      0.96      0.95        48\n",
            "           6       0.95      0.80      0.87        51\n",
            "           7       0.94      0.87      0.90        53\n",
            "           8       1.00      0.76      0.86        42\n",
            "           9       0.94      0.68      0.79        47\n",
            "          10       0.78      0.83      0.80        46\n",
            "          11       1.00      0.37      0.54        46\n",
            "          12       0.68      1.00      0.81        45\n",
            "          13       0.91      0.93      0.92        46\n",
            "          14       0.85      1.00      0.92        56\n",
            "\n",
            "    accuracy                           0.86       731\n",
            "   macro avg       0.88      0.86      0.85       731\n",
            "weighted avg       0.88      0.86      0.85       731\n",
            "\n"
          ]
        }
      ]
    },
    {
      "cell_type": "code",
      "execution_count": null,
      "metadata": {
        "id": "ojG0pNNH70AX"
      },
      "outputs": [],
      "source": [
        "import numpy as np\n",
        "CATEGORIES = ['Pepper bell: Bacterial spot','Pepper bell: Healthy',\n",
        " 'Potato: Early blight' ,'Potato: Late blight', 'Potato: Healthy',\n",
        " 'Tomato: Bacterial spot' ,'Tomato_Early_blight', 'Tomato_Late_blight',\n",
        " 'Tomato: Leaf Mold' ,'Tomato: Septoria leaf spot',\n",
        " 'Tomato: Spider mites Two spotted spider mite' ,'Tomato: Target Spot',\n",
        " 'Tomato: Yellow Leaf Curl Virus', 'Tomato: Mosaic virus',\n",
        " 'Tomato: Healthy']\n",
        "\n",
        "def image(path):\n",
        "    img = cv2.imread(path)\n",
        "    new_arr = cv2.resize(img,(256, 256))\n",
        "    new_arr = np.array(new_arr/255)\n",
        "    new_arr = new_arr.reshape(-1, 256, 256, 3)\n",
        "    return new_arr\n",
        "\n",
        "#model = keras.models.load_model('my_model.h5')"
      ]
    },
    {
      "cell_type": "code",
      "execution_count": null,
      "metadata": {
        "id": "Z_WrWQ3x-uuv",
        "colab": {
          "base_uri": "https://localhost:8080/"
        },
        "outputId": "0ac881fb-ab4b-4fb1-c035-a953898da332"
      },
      "outputs": [
        {
          "output_type": "stream",
          "name": "stdout",
          "text": [
            "1/1 [==============================] - 1s 680ms/step\n",
            "Tomato: Healthy\n"
          ]
        }
      ],
      "source": [
        "prediction = model.predict(image('/content/drive/MyDrive/Kaggle/plantvillage/PlantVillage/Tomato_healthy/01700b46-3800-46c6-ab81-09a5f50af525___RS_HL 0108.JPG'))\n",
        "print(CATEGORIES[prediction.argmax()])"
      ]
    },
    {
      "cell_type": "code",
      "execution_count": null,
      "metadata": {
        "colab": {
          "base_uri": "https://localhost:8080/"
        },
        "id": "pgUNw6WVcQDE",
        "outputId": "8aab2fd7-a945-4f35-8838-49fdca1da217"
      },
      "outputs": [
        {
          "output_type": "stream",
          "name": "stdout",
          "text": [
            "1/1 [==============================] - 0s 81ms/step\n",
            "Potato: Late blight\n"
          ]
        }
      ],
      "source": [
        "prediction = model.predict(image('/content/drive/MyDrive/Kaggle/plantvillage/PlantVillage/Potato___Late_blight/006cc01a-1888-4326-9b62-a65cb55a6377___RS_LB 5207.JPG'))\n",
        "print(CATEGORIES[prediction.argmax()])"
      ]
    },
    {
      "cell_type": "code",
      "execution_count": null,
      "metadata": {
        "id": "K5DxjLkJDxzY"
      },
      "outputs": [],
      "source": [
        "image_dir=\"/content/drive/MyDrive/Kaggle/plantvillage/PlantVillage/Potato___Late_blight/006cc01a-1888-4326-9b62-a65cb55a6377___RS_LB 5207.JPG\"\n",
        "im=convert_image_to_array(image_dir)\n",
        "np_image_li = np.array(im, dtype=np.float16) / 225.0\n",
        "npp_image = np.expand_dims(np_image_li, axis=0)"
      ]
    },
    {
      "cell_type": "code",
      "execution_count": null,
      "metadata": {
        "colab": {
          "base_uri": "https://localhost:8080/"
        },
        "id": "rASeuXvSENwR",
        "outputId": "c7b886b0-5d6a-49d5-cd28-4686b5059604"
      },
      "outputs": [
        {
          "output_type": "stream",
          "name": "stdout",
          "text": [
            "1/1 [==============================] - 0s 76ms/step\n",
            "probability:0.99998665\n",
            "Potato: Late blight\n"
          ]
        }
      ],
      "source": [
        "result=model.predict(npp_image)\n",
        "#print(result)\n",
        "itemindex = np.where(result==np.max(result))\n",
        "print(\"probability:\"+str(np.max(result))+\"\\n\"+CATEGORIES[prediction.argmax()])"
      ]
    },
    {
      "cell_type": "code",
      "source": [
        "# from sklearn.metrics import classification_report\n",
        "# print('classification report: \\n', classification_report(y_test, y_pred))"
      ],
      "metadata": {
        "colab": {
          "base_uri": "https://localhost:8080/"
        },
        "id": "8zwEB2hqLCaX",
        "outputId": "8bd6f02e-4ac1-4cbf-a656-f08afd0f808b"
      },
      "execution_count": null,
      "outputs": [
        {
          "output_type": "stream",
          "name": "stdout",
          "text": [
            "classification report: \n",
            "               precision    recall  f1-score   support\n",
            "\n",
            "           0       0.94      0.84      0.89        61\n",
            "           1       0.87      0.94      0.90        62\n",
            "           2       0.79      1.00      0.88        46\n",
            "           3       0.93      0.91      0.92        45\n",
            "           4       0.62      0.95      0.75        37\n",
            "           5       0.94      0.96      0.95        48\n",
            "           6       0.95      0.80      0.87        51\n",
            "           7       0.94      0.87      0.90        53\n",
            "           8       1.00      0.76      0.86        42\n",
            "           9       0.94      0.68      0.79        47\n",
            "          10       0.78      0.83      0.80        46\n",
            "          11       1.00      0.37      0.54        46\n",
            "          12       0.68      1.00      0.81        45\n",
            "          13       0.91      0.93      0.92        46\n",
            "          14       0.85      1.00      0.92        56\n",
            "\n",
            "    accuracy                           0.86       731\n",
            "   macro avg       0.88      0.86      0.85       731\n",
            "weighted avg       0.88      0.86      0.85       731\n",
            "\n"
          ]
        }
      ]
    }
  ],
  "metadata": {
    "colab": {
      "machine_shape": "hm",
      "provenance": []
    },
    "gpuClass": "standard",
    "kernelspec": {
      "display_name": "Python 3",
      "name": "python3"
    }
  },
  "nbformat": 4,
  "nbformat_minor": 0
}